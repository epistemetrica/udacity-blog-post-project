{
 "cells": [
  {
   "cell_type": "markdown",
   "metadata": {},
   "source": [
    "# Price Determinants in the Seattle AirBnB Market\n",
    "\n",
    "This notebook analyses price determinants in the Seattle AirBnB market using a CRISP-DM process. For the README, data sources, and other information related to this project, please see [the corresponding github repo](https://github.com/epistemetrica/udacity-blog-post-project). "
   ]
  },
  {
   "cell_type": "markdown",
   "metadata": {},
   "source": [
    "## Business Understanding\n",
    "\n",
    "How are prices determined for AirBnB listings in Seattle? In the most basic sense, the host sets the price for the listing based on their best guess of what renters are willing to pay for it. Intuitively, we imagine the host considers factors such as the location of the rental and the features that it offers, and thus listings in \"nice\" neighborhoods and with premium amenities like free parking or hot tubs will be listed at higher prices. \n",
    "\n",
    "This project has two parts. First, I test three questions against the available data:\n",
    "- Which locations do renters prefer?\n",
    "- For which features and amenities are renters willing to pay a premium? \n",
    "- Do renters place any value on the reputation of the host?\n",
    "\n",
    "Second, I develop a pricing model to help future hosts decide where to set prices (and to help renters judge whether a fair price is being asked). "
   ]
  },
  {
   "cell_type": "markdown",
   "metadata": {},
   "source": [
    "## Data Understanding\n",
    "\n",
    "My data come from AirBnB listings, scraped on July 18th, 2023 by Inside AirBnB (see the above-linked github page for more detailed info on the raw data). Importantly, the prices in this dataset are _advertised_ prices, not the prices at which the listings actually sell. This is a serious limitation when it comes to analyzing the business questions above. However, this is a data science portfolio project, not a formal academic analysis or industry report, so I will make the possibly-unrealistic assumption that listed prices are a decent proxy for sales prices and get on with it. \n",
    "\n",
    "That limitation aside, the dataset from Inside AirBnB contains a great deal of information about each listing including the listing's location, features (guest capacity, number of bedrooms and bathrooms, etc), and amenities (air conditioning, parking, wifi, etc). It also includes information about the host (whether or not they are a superhost, how many listings each host manages, etc.). \n",
    "\n",
    "I use two main files from Inside AirBnB: a csv file containing the above data associated with each listing, and a geojson file containing neighborhood geometries for Seattle, which coorespond to the neighbourhoods listed in the csv.\n",
    "\n",
    "Armed with these data, we can address the above questions. \n"
   ]
  },
  {
   "cell_type": "markdown",
   "metadata": {},
   "source": [
    "## Data Preparation Part 1: The Basics\n",
    "\n",
    "The data come from Inside AirBnB in csv and geojson files that are quite tidy, all things considered. However, many columns contain data in impractical data types (such as price or date info cast as strings), and data such as listing amenities are contained in long lists of strings within single cells. So, lets get to it!\n",
    "\n",
    "First, let's install all the libraries we will use throughout this notebook and get that out of the way:"
   ]
  },
  {
   "cell_type": "code",
   "execution_count": 1,
   "metadata": {},
   "outputs": [],
   "source": [
    "#install libraries\n",
    "import numpy as np\n",
    "import pandas as pd\n",
    "import scipy \n",
    "import matplotlib.pyplot as plt\n",
    "import seaborn as sns\n",
    "import folium \n",
    "import geopandas as gpd\n",
    "from geopy import distance\n",
    "from sklearn.impute import KNNImputer\n",
    "from sklearn.linear_model import LinearRegression\n",
    "from sklearn.model_selection import train_test_split\n",
    "from sklearn.metrics import r2_score, mean_squared_error\n",
    "import statsmodels.api as sm\n",
    "\n",
    "#remove limit on number of displayed columns\n",
    "pd.set_option('display.max_columns', None)"
   ]
  },
  {
   "cell_type": "markdown",
   "metadata": {},
   "source": [
    "### Recasting to the appropriate data type\n",
    "\n",
    "Next, let's load the data and recast the various strings into the appropriate data types."
   ]
  },
  {
   "cell_type": "code",
   "execution_count": 2,
   "metadata": {},
   "outputs": [],
   "source": [
    "#load data\n",
    "listings_df = pd.read_csv('airbnb_data_seattle/listings.csv')"
   ]
  },
  {
   "cell_type": "code",
   "execution_count": 3,
   "metadata": {},
   "outputs": [],
   "source": [
    "#recast price data from string to float\n",
    "\n",
    "def price_str_to_float(df, *cols):\n",
    "    ''' \n",
    "    INPUT:\n",
    "        df - a pandas dataframe\n",
    "        cols - any price columns you want to recast from string to float - expected string format is $9,999.99\n",
    "    NOTE: this change is made IN PLACE\n",
    "    '''\n",
    "    for col in cols:\n",
    "        df[col] = df[col].str.replace('$','').str.replace(',','').astype('float')\n",
    "\n",
    "price_str_to_float(listings_df, 'price')"
   ]
  },
  {
   "cell_type": "code",
   "execution_count": 4,
   "metadata": {},
   "outputs": [],
   "source": [
    "#recast date data from string to pandas datetime\n",
    "\n",
    "def date_str_to_datetime(df, *cols):\n",
    "    ''' \n",
    "    INPUT:\n",
    "       df - a pandas dataframe\n",
    "       cols - any date columns you want to recast from string to float\n",
    "    NOTE: this change is made IN PLACE\n",
    "    '''\n",
    "    for col in cols:\n",
    "        df[col] = pd.to_datetime(df[col])\n",
    "\n",
    "date_str_to_datetime(listings_df, 'host_since', 'first_review', 'last_review')"
   ]
  },
  {
   "cell_type": "code",
   "execution_count": 5,
   "metadata": {},
   "outputs": [],
   "source": [
    "#recast percents and rates from string to float\n",
    "\n",
    "def percent_str_to_float(df, *cols):\n",
    "    '''\n",
    "    INPUT: \n",
    "        df - a pandas dataframe\n",
    "        cols - any percent or rate columns you want to recast from string to float (e.g. '20%' will become .20)\n",
    "    NOTE: this change is made IN PLACE\n",
    "    '''\n",
    "    for col in cols:\n",
    "        df[col] = df[col].str.replace('%','').astype('float')\n",
    "        df[col] = df[col]/100\n",
    "\n",
    "percent_str_to_float(listings_df, 'host_response_rate', 'host_acceptance_rate')"
   ]
  },
  {
   "cell_type": "code",
   "execution_count": 6,
   "metadata": {},
   "outputs": [],
   "source": [
    "#recast columns with 't' and 'f' strings to boolean \n",
    "\n",
    "def tf_to_bool(df, *cols):\n",
    "    '''\n",
    "    INPUT:\n",
    "        df - a pandas dataframe\n",
    "        cols - any columns with 't' and 'f' strings you want to recast to boolean dtype\n",
    "    NOTE: this change is made IN PLACE\n",
    "    '''\n",
    "    for col in cols:\n",
    "        df[col] = df[col].map({'t': True,'f': False, np.nan: False})\n",
    "\n",
    "tf_to_bool(listings_df, 'host_is_superhost', 'host_has_profile_pic', 'host_identity_verified', 'instant_bookable', 'license')"
   ]
  },
  {
   "cell_type": "markdown",
   "metadata": {},
   "source": [
    "### Converting text descriptions into quantitative variables\n",
    "\n",
    "The data on bathrooms for each listing is messy&mdash;the 'bathrooms' column is empty, and the 'bathrooms_text' column includes various entries such as \"1 shared bath\" or \"Private half-bath.\" Since there are only 28 unique strings in the 'bathrooms_text' column, I chose a brute force mapping approach rather than building a function to interpret the various responses. "
   ]
  },
  {
   "cell_type": "code",
   "execution_count": 7,
   "metadata": {},
   "outputs": [],
   "source": [
    "#obtain unique entries in the 'bathroom_text' col\n",
    "listings_df['bathrooms_text'].unique();\n",
    "\n",
    "#map values from 'bathrooms_text' into 'bathrooms' as numerical values\n",
    "listings_df['bathrooms'] = listings_df['bathrooms_text'].map({'2 baths': 2, '1 bath': 1, '1 shared bath': 1, '1 private bath': 1,\n",
    "       '2.5 baths': 2.5, '3.5 baths': 3.5, '3 baths': 3, '4 baths': 4, '1.5 baths': 1.5,\n",
    "       '2 shared baths': 2, '4.5 baths': 4.5, 'Half-bath': 0.5, '0 shared baths': 0,\n",
    "       '3 shared baths': 3, '4 shared baths': 4, '3.5 shared baths': 3.5,\n",
    "       '1.5 shared baths': 1.5, 'Private half-bath': 0.5, '6 baths': 6,\n",
    "       '16 shared baths': 16, '0 baths': 0, '6.5 baths': 6.5, '5 baths': 5,\n",
    "       '2.5 shared baths': 2.5, 'Shared half-bath': 0.5, '7 baths': 7, '5.5 baths': 5.5})"
   ]
  },
  {
   "cell_type": "markdown",
   "metadata": {},
   "source": [
    "### Converting category strings to Pandas Category dtype"
   ]
  },
  {
   "cell_type": "code",
   "execution_count": 8,
   "metadata": {},
   "outputs": [],
   "source": [
    "#recast from strings to categories\n",
    "listings_df[['host_response_time', 'neighbourhood_cleansed', 'neighbourhood_group_cleansed', 'property_type', 'room_type']] = listings_df[['host_response_time', 'neighbourhood_cleansed', 'neighbourhood_group_cleansed', 'property_type', 'room_type']].astype('category')\n",
    "\n",
    "#apply order to host response time category\n",
    "listings_df.host_response_time = listings_df.host_response_time.cat.set_categories(['within an hour', 'within a few hours', 'within a day', 'a few days or more'], ordered= True)"
   ]
  },
  {
   "cell_type": "markdown",
   "metadata": {},
   "source": [
    "### Spurious data and empty columns\n",
    "\n",
    "Some listings seem a bit spurious. For instance, a single host represents all the listings above $5,000 (4 of which are at the same location and listed at $10,000.00), and all their listings have extravagant prices for normal-looking listings. I drop this host, as well as listings with a price of $0 and any columns with completely missing data."
   ]
  },
  {
   "cell_type": "code",
   "execution_count": 9,
   "metadata": {},
   "outputs": [],
   "source": [
    "#drop spurious host id\n",
    "listings_df = listings_df.drop(listings_df[listings_df.host_id == 241568755].index)\n",
    "\n",
    "#drop $0 listings\n",
    "listings_df = listings_df.drop(listings_df[listings_df.price == 0].index)\n",
    "\n",
    "#drop columns with missing data\n",
    "listings_df.dropna(axis=1, how='all', inplace=True);"
   ]
  },
  {
   "cell_type": "markdown",
   "metadata": {},
   "source": [
    "### Amenities\n",
    "\n",
    "The amenities offered by each listing are encoded as a long string of all the diffrent amenities in the form \"[\"feature 1\", \"feature 2\", ...]\". We will save the creation of dummy variables for later, but for now let's turn that into a proper python list. "
   ]
  },
  {
   "cell_type": "code",
   "execution_count": 10,
   "metadata": {},
   "outputs": [],
   "source": [
    "#clean up amenities column into an actual python list \n",
    "listings_df.amenities = listings_df.amenities.apply(eval)"
   ]
  },
  {
   "cell_type": "markdown",
   "metadata": {},
   "source": [
    "### Natural log of prices\n",
    "\n",
    "So that we can interpret the effects of each variable on the % change in prices (rather than the absolute number of dollars), I will go ahead and take the natural log of prices. "
   ]
  },
  {
   "cell_type": "code",
   "execution_count": 11,
   "metadata": {},
   "outputs": [],
   "source": [
    "#log prices\n",
    "listings_df['ln_price'] = np.log(listings_df.price)"
   ]
  },
  {
   "cell_type": "markdown",
   "metadata": {},
   "source": [
    "### Distance to City Center\n",
    "\n",
    "A classic metric in the economic evaluation of property values is the property's distance from the city center. Let's look first at the geometric distances between each listing and the city center. Since our geographic area of interest is small, the cartesian distance between coordinates would be accurate enough. However, I'm a huge nerd so I'm going to use the geodesic distance based on the WGS-84 ellipoid."
   ]
  },
  {
   "cell_type": "code",
   "execution_count": 12,
   "metadata": {},
   "outputs": [],
   "source": [
    "#seattle city center, obtained from google\n",
    "city_center = (47.6050,-122.3344) \n",
    "\n",
    "#GeoPy distance function expects a lat/long tuple, so:\n",
    "listings_df['coordinates'] = tuple(zip(listings_df.latitude, listings_df.longitude))\n",
    "\n",
    "#compute distance for each listing\n",
    "listings_df['distance_from_cc'] = listings_df.apply(lambda row: distance.distance(row.coordinates, city_center).miles, axis=1)"
   ]
  },
  {
   "cell_type": "markdown",
   "metadata": {},
   "source": [
    "### Drop unused columns and rename as appropriate\n",
    "\n",
    "The dataframe includes a number of columns that are not useful to this analysis. Either they are repetitive in one way or another, such as the 'bathrooms' and 'bathrooms_text' columns mentioned above, or they are unrelated to the question of price determinants (e.g., since we are using listed prices as a proxy for sales prices, we are not concerned with whether the listing is available). "
   ]
  },
  {
   "cell_type": "code",
   "execution_count": 13,
   "metadata": {},
   "outputs": [],
   "source": [
    "#drop unused columns\n",
    "listings_df = listings_df.drop(columns=['name', 'description', 'listing_url', 'scrape_id', 'last_scraped', 'source', 'picture_url', 'host_url',\n",
    "                                        'host_name', 'host_location', 'host_about', 'host_thumbnail_url', 'host_picture_url',\n",
    "                                        'host_listings_count', 'host_total_listings_count', 'host_verifications', 'neighbourhood',\n",
    "                                        'minimum_nights', 'maximum_nights', 'minimum_minimum_nights', 'maximum_minimum_nights',\n",
    "                                        'minimum_maximum_nights', 'maximum_maximum_nights', 'has_availability', 'availability_30',\n",
    "                                        'availability_60', 'availability_90', 'availability_365', 'calendar_last_scraped', \n",
    "                                        'number_of_reviews_ltm', 'number_of_reviews_l30d', 'last_review', 'license', \n",
    "                                        'calculated_host_listings_count_entire_homes', 'calculated_host_listings_count_private_rooms',\n",
    "                                        'calculated_host_listings_count_shared_rooms', 'bathrooms_text', 'host_neighbourhood', 'latitude',\n",
    "                                        'longitude', 'neighborhood_overview'])"
   ]
  },
  {
   "cell_type": "code",
   "execution_count": 14,
   "metadata": {},
   "outputs": [],
   "source": [
    "#rename \n",
    "listings_df['neighbourhood'] = listings_df['neighbourhood_cleansed']\n",
    "listings_df['neighbourhood_group'] = listings_df['neighbourhood_group_cleansed']\n",
    "listings_df['min_nights'] = listings_df['minimum_nights_avg_ntm']\n",
    "listings_df['max_nights'] = listings_df['maximum_nights_avg_ntm']\n",
    "listings_df['host_listings_count'] = listings_df['calculated_host_listings_count']\n",
    "\n",
    "#drop\n",
    "listings_df = listings_df.drop(columns=['neighbourhood_cleansed', 'neighbourhood_group_cleansed', 'minimum_nights_avg_ntm', 'maximum_nights_avg_ntm', 'calculated_host_listings_count'])"
   ]
  },
  {
   "cell_type": "markdown",
   "metadata": {},
   "source": [
    "### Reorder columns\n",
    "\n",
    "Finally, I re-order the columns for the sake of sanity"
   ]
  },
  {
   "cell_type": "code",
   "execution_count": 15,
   "metadata": {},
   "outputs": [],
   "source": [
    "#reorder columns (as copy to avoid view/copy confusion)\n",
    "listings_df = listings_df[['id', 'price', 'ln_price', 'coordinates', 'distance_from_cc', \n",
    "                           'neighbourhood', 'neighbourhood_group', 'property_type', 'room_type', 'accommodates', 'bathrooms', \n",
    "                           'bedrooms', 'beds', 'amenities', 'number_of_reviews', 'first_review', 'review_scores_rating',\n",
    "                           'review_scores_accuracy', 'review_scores_cleanliness', 'review_scores_checkin', 'review_scores_communication',\n",
    "                           'review_scores_location', 'review_scores_value', 'reviews_per_month', 'min_nights', 'max_nights',\n",
    "                           'instant_bookable', 'host_id', 'host_since', 'host_response_time', 'host_response_rate', 'host_acceptance_rate',\n",
    "                           'host_is_superhost', 'host_has_profile_pic', 'host_identity_verified', 'host_listings_count']].copy()"
   ]
  },
  {
   "cell_type": "markdown",
   "metadata": {},
   "source": [
    "## Data Preparation Part 2: Dummy Variables\n",
    "\n",
    "Now that the basic data set is all clean and tidy, it's time to create dummy variables. The number of possible dummy variables is quite large, so I will only create the variables that will be useful later on. \n",
    "\n",
    "In the modeling section, I run a model from a popular paper by Gibbs and collaborators, who include whether a listing is an independent property or part of a multi-unit building. The authors do not specify exactly how they determined this, and my dataset contains 52 unique descriptions of property type such as \"Entire rental unit\", \"Private room in bed and breakfast\", \"Tiny home\", etc. So I will play fast-and-loose here and categorize property types as \"independent\" based on my best guess from the property type description."
   ]
  },
  {
   "cell_type": "code",
   "execution_count": 16,
   "metadata": {},
   "outputs": [],
   "source": [
    "#define independent property types\n",
    "independent_types = ['Entire home', 'Entire townhouse', 'Entire guesthouse', 'Entire Cottage', 'Entire bungalow', 'Entire vacation home',\n",
    "                     'Tiny home', 'Entire cabin', 'Entire villa', 'Boat', 'Houseboat', 'Camper/RV', 'Entire place', 'Bus', 'Tent', \n",
    "                     'Casa particular', 'Farm stay']\n",
    "\n",
    "listings_df['independant_property'] = listings_df.apply(lambda row: True if row.property_type in independent_types else False, axis=1)"
   ]
  },
  {
   "cell_type": "markdown",
   "metadata": {},
   "source": [
    "As mentioned above, the amenities data is contained in long lists in each cell of the column, so for each variable (free parking, wifi, etc) I isolate the strings that define the variable then create dummies based on whether or not the listing includes one of the relevant strings. "
   ]
  },
  {
   "cell_type": "code",
   "execution_count": 17,
   "metadata": {},
   "outputs": [],
   "source": [
    "#define function to find any member of a string in another string\n",
    "def string_list_search(strings_to_find, strings_to_search):\n",
    "    ''' \n",
    "    Input:\n",
    "        strings_to_find - a list of strings you want to find\n",
    "        strings_to_search - a list of strings where you may find the strings you want to find\n",
    "    Output:\n",
    "        boolean returning true if any of the strings in strings_to_find occur in strings_to_search\n",
    "    '''\n",
    "    if any(string in strings_to_find for string in strings_to_search):\n",
    "        return True\n",
    "    return False"
   ]
  },
  {
   "cell_type": "code",
   "execution_count": 18,
   "metadata": {},
   "outputs": [],
   "source": [
    "#dummy variable creation function from the course lessons\n",
    "def create_dummy_df(df, *cat_cols, dummy_na):\n",
    "    ''' \n",
    "    Input: \n",
    "    df - a pandas dataframe with categorical variables\n",
    "    cat_cols - strings corresponding to the categorical column names\n",
    "    dummy_na - whether or not you want dummy_na category for your variable, default = True\n",
    "\n",
    "    Output:\n",
    "    df - a new dataframe with the following characteristics:\n",
    "        - contains all the columns not specified under cat_cols\n",
    "        - removes all the original columsn specified under cat_cols\n",
    "        - uses a prefix for the new columns corresponding to the original column name\n",
    "    \n",
    "    NOTE: this changes is made IN PLACE\n",
    "    '''\n",
    "    for col in cat_cols:\n",
    "        df = pd.concat([df.drop(col, axis=1), pd.get_dummies(df[col], prefix=col, prefix_sep='_', dummy_na=dummy_na)], axis=1)\n",
    "    return df "
   ]
  },
  {
   "cell_type": "code",
   "execution_count": 19,
   "metadata": {},
   "outputs": [],
   "source": [
    "#get list of unique amenities strings\n",
    "unique_amenities = [str(i) for i in list(listings_df.amenities.explode().unique())]"
   ]
  },
  {
   "cell_type": "code",
   "execution_count": 20,
   "metadata": {},
   "outputs": [],
   "source": [
    "#get gym list\n",
    "gym_list = list(filter(lambda x: 'gym'.lower() in x.lower(), unique_amenities))\n",
    "\n",
    "#create gym dummy variable\n",
    "listings_df['gym'] = listings_df.apply(lambda row: string_list_search(gym_list, row.amenities), axis= 1)"
   ]
  },
  {
   "cell_type": "code",
   "execution_count": 21,
   "metadata": {},
   "outputs": [],
   "source": [
    "#get list of amenities including pool (trying to avoid including Whirlpool appliances, etc.)\n",
    "pool_list = list(filter(lambda x: ' pool'.lower() in x.lower(), unique_amenities))\n",
    "Pool_list = list(filter(lambda x: 'Pool' in x, unique_amenities))\n",
    "pool_list = Pool_list + pool_list\n",
    "pool_list.remove('WhitePool refrigerator')\n",
    "\n",
    "#create dummy variable for pool \n",
    "listings_df['pool'] = listings_df.apply(lambda row: string_list_search(pool_list, row.amenities), axis= 1)\n"
   ]
  },
  {
   "cell_type": "code",
   "execution_count": 22,
   "metadata": {},
   "outputs": [],
   "source": [
    "#get parking list\n",
    "parking_amenities = list(filter(lambda x: 'parking'.lower() in x.lower(), unique_amenities))\n",
    "\n",
    "#inspect strings that mention parking\n",
    "parking_amenities;\n",
    "\n",
    "#create free parking strings list\n",
    "free_parking_strings = ['Free driveway parking on premises – 2 spaces', 'Free street parking', 'Free parking on premises',\n",
    "                        'Free driveway parking on premises – 1 space', 'Free driveway parking on premises', 'Free parking on premises – 1 space',\n",
    "                        'Free parking garage on premises – 1 space', 'Free driveway parking on premises – 3 spaces', 'Free parking on premises – 2 spaces',\n",
    "                        'Free driveway parking on premises – 11 spaces', 'Free parking on premises – 3 spaces', 'Free parking garage on premises – 2 spaces',\n",
    "                        'Free driveway parking on premises – 4 spaces', 'Free parking garage on premises', 'Free parking garage on premises – 11 spaces', \n",
    "                        'Free parking on premises – 4 spaces', 'Free parking garage on premises – 4 spaces', 'Free driveway parking on premises – 7 spaces']\n",
    "\n",
    "#create free parking dummy variable\n",
    "listings_df['free_parking'] = listings_df.apply(lambda row: string_list_search(free_parking_strings, row.amenities), axis= 1)"
   ]
  },
  {
   "cell_type": "code",
   "execution_count": 23,
   "metadata": {},
   "outputs": [],
   "source": [
    "#get beachfront/waterfront list\n",
    "beachfront_list = list(filter(lambda x: 'beach'.lower() in x.lower(), unique_amenities))\n",
    "waterfront_list = list(filter(lambda x: 'waterfront'.lower() in x.lower(), unique_amenities))\n",
    "waterfront_list = waterfront_list + beachfront_list\n",
    "\n",
    "#finalize list\n",
    "waterfront_list = ['Waterfront', 'Public or shared beach access – Beachfront', 'Public or shared beach access', \n",
    "                   'Beach access – Beachfront','Beach access', 'Beach view', 'Private beach access', 'Private beach access – Beachfront']\n",
    "#create waterfront dummy variable\n",
    "listings_df['waterfront'] = listings_df.apply(lambda row: string_list_search(waterfront_list, row.amenities), axis= 1)"
   ]
  },
  {
   "cell_type": "code",
   "execution_count": 24,
   "metadata": {},
   "outputs": [],
   "source": [
    "#get hot tub list\n",
    "hottub_list = list(filter(lambda x: 'hot tub'.lower() in x.lower(), unique_amenities))\n",
    "\n",
    "#create hot tub dummy variable\n",
    "listings_df['hot_tub'] = listings_df.apply(lambda row: string_list_search(hottub_list, row.amenities), axis= 1)"
   ]
  },
  {
   "cell_type": "code",
   "execution_count": 25,
   "metadata": {},
   "outputs": [],
   "source": [
    "#get ac list\n",
    "ac_list = list(filter(lambda x: ' ac '.lower() in x.lower(), unique_amenities))\n",
    "aircon_list = list(filter(lambda x: 'air conditioning'.lower() in x.lower(), unique_amenities))\n",
    "ac_list = ac_list + aircon_list\n",
    "\n",
    "#create AC dummy\n",
    "listings_df['ac'] = listings_df.apply(lambda row: string_list_search(ac_list, row.amenities), axis= 1)"
   ]
  },
  {
   "cell_type": "code",
   "execution_count": 26,
   "metadata": {},
   "outputs": [],
   "source": [
    "#get workspace list\n",
    "workspace_list = list(filter(lambda x: 'workspace'.lower() in x.lower(), unique_amenities))\n",
    "\n",
    "#create dummy\n",
    "listings_df['workspace'] = listings_df.apply(lambda row: string_list_search(workspace_list, row.amenities), axis= 1)"
   ]
  },
  {
   "cell_type": "code",
   "execution_count": 27,
   "metadata": {},
   "outputs": [],
   "source": [
    "#get EV Charger list\n",
    "ev_list = list(filter(lambda x: 'charger'.lower() in x.lower(), unique_amenities))\n",
    "\n",
    "#create dummy\n",
    "listings_df['ev_charger'] = listings_df.apply(lambda row: string_list_search(ev_list, row.amenities), axis= 1)"
   ]
  },
  {
   "cell_type": "code",
   "execution_count": 28,
   "metadata": {},
   "outputs": [],
   "source": [
    "#create dummy variables for entire place, private room, and shared room\n",
    "listings_df = create_dummy_df(listings_df, 'room_type', dummy_na= False);\n",
    "\n",
    "#create professional host dummy variable \n",
    "listings_df['professional_host'] = listings_df.apply(lambda row: True if row.host_listings_count >= 2 else False, axis=1)\n",
    "\n",
    "#create neighbourhood dummy variable (reference dummy = Other Neighbourhoods)\n",
    "listings_df = pd.concat([listings_df, pd.get_dummies(listings_df['neighbourhood_group'])], axis=1)"
   ]
  },
  {
   "cell_type": "code",
   "execution_count": 29,
   "metadata": {},
   "outputs": [],
   "source": [
    "#drop remaining columns that are now encoded as dummies\n",
    "listings_df = listings_df.drop(columns=['property_type', 'amenities'])"
   ]
  },
  {
   "cell_type": "markdown",
   "metadata": {},
   "source": [
    "## Data Preparation Part 3: Missing Data"
   ]
  },
  {
   "cell_type": "markdown",
   "metadata": {},
   "source": [
    "There are two major areas of missing data that we need to address: listings with no entries for number of bedrooms or beds, and listings with no reviews. \n",
    "\n",
    "### Listings with no bedrooms or beds data\n",
    "\n",
    "~24% of the listings in our dataset have missing values in the bedrooms column. Given that listings with missing bedroom data range from $13 to $900 per night, have anywhere from 1 to 8 beds, and accomodate anywhere from 1 to 14 guests, there doesn't seem to be much sense in dropping these listings or assigning them all a given number of beds. After all, assinging nearly a quarter of the observations a centrality metric would dramatically reduce our ability to explain listing prices due to changes in number of bedrooms. A similar situation applies to listings with missing data for beds, although these are a much smaller proportion of the dataset. \n",
    "\n",
    "For these reasons, I deploy a KNN algorithm to impute the number of bedrooms and the number of beds for listings with missing data. Special thanks to Bex T. for their [excellent tutorial](https://towardsdatascience.com/advanced-missing-data-imputation-methods-with-sklearn-d9875cbcc6eb) on KNN imputation of missing data. "
   ]
  },
  {
   "cell_type": "code",
   "execution_count": 30,
   "metadata": {},
   "outputs": [],
   "source": [
    "#restrict df to relevant quantitative variables only\n",
    "df = listings_df.drop(columns= ['id', 'price', 'neighbourhood', 'neighbourhood_group', 'coordinates', 'host_since', 'first_review', 'host_response_time'])\n",
    "\n",
    "#define imputation \n",
    "knn_imp = KNNImputer()\n",
    "\n",
    "#impute missing values\n",
    "df.loc[:,:] = knn_imp.fit_transform(df) \n",
    "\n",
    "#add missing bedrooms data back into listings df\n",
    "listings_df[['bedrooms','beds']] = df[['bedrooms','beds']]"
   ]
  },
  {
   "cell_type": "markdown",
   "metadata": {},
   "source": [
    "\n",
    "### Listings with no reviews\n",
    "\n",
    "Recall that this is _advertising_ data, and the only indication we have in the data set for whether or not the listing has ever been rented is the presense of reviews. Since reviews can only come from actual renters, I will assume that whether or not a listing has any reviews is a decent proxy for whether or not the listing has ever been rented, and thus listings with no reviews are assumed to have never been rented. \n",
    "\n",
    "Since this analysis depends on using asking prices as a proxy for sale prices, it would not make sense to include listings that have not sold. To that end, listings with no reviews are dropped from the main dataset (but I save them for later!)"
   ]
  },
  {
   "cell_type": "code",
   "execution_count": 31,
   "metadata": {},
   "outputs": [],
   "source": [
    "#save listings with no reviews\n",
    "listings_noreviews_df = listings_df[listings_df.review_scores_rating.isna()]\n",
    "\n",
    "#drop listings with no reviews from main dataframe\n",
    "listings_df = listings_df.dropna(subset=['review_scores_rating'])"
   ]
  },
  {
   "cell_type": "markdown",
   "metadata": {},
   "source": [
    "## Data Modeling\n",
    "\n",
    "Boring part done, now for the fun! \n",
    "\n",
    "### Which locations do renters prefer?\n",
    "\n",
    "It's against the law, I think, to talk about real estate without saying location location location. So, which locations in Seattle are more valuable? Let's take a simple look at median prices by neighborhood. \n",
    "\n",
    "As a quick side note: housing market analyses typically speak in terms of the _median_ rather than the mean/average since housing markets are characterized by a small number of extremly expensive properties, which have an outsized influence on the mean. \n"
   ]
  },
  {
   "cell_type": "code",
   "execution_count": 32,
   "metadata": {},
   "outputs": [
    {
     "data": {
      "image/png": "[encoded data removed]",
      "text/plain": [
       "<Figure size 640x480 with 1 Axes>"
      ]
     },
     "metadata": {},
     "output_type": "display_data"
    }
   ],
   "source": [
    "#obtain median values by neighborhood \n",
    "neighbourhood_group_prices = listings_df[['neighbourhood_group','price']].groupby('neighbourhood_group', as_index=False).median()\n",
    "\n",
    "#plot in seaborn\n",
    "p = sns.barplot(y= 'neighbourhood_group', x= 'price', data=neighbourhood_group_prices)\n",
    "p.set(ylabel='Neighbourhood Groups', xlabel='Price (USD)', title= 'Median List Prices');"
   ]
  }
 ],
 "metadata": {
  "kernelspec": {
   "display_name": "udacity",
   "language": "python",
   "name": "python3"
  },
  "language_info": {
   "codemirror_mode": {
    "name": "ipython",
    "version": 3
   },
   "file_extension": ".py",
   "mimetype": "text/x-python",
   "name": "python",
   "nbconvert_exporter": "python",
   "pygments_lexer": "ipython3",
   "version": "3.11.3"
  },
  "orig_nbformat": 4
 },
 "nbformat": 4,
 "nbformat_minor": 2
}
